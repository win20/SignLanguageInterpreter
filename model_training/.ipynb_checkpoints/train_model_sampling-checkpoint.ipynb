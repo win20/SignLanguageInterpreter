{
 "cells": [
  {
   "cell_type": "code",
   "execution_count": 2,
   "id": "2a0bdef3",
   "metadata": {},
   "outputs": [],
   "source": [
    "import tensorflow as tf\n",
    "from tensorflow.keras import Sequential\n",
    "from tensorflow.keras.layers import Flatten, Dense, Dropout, BatchNormalization\n",
    "from tensorflow.keras.layers import Conv2D, MaxPool2D\n",
    "from tensorflow.keras.optimizers import Adam\n",
    "from keras.wrappers.scikit_learn import KerasClassifier\n",
    "from sklearn.model_selection import cross_val_score\n",
    "from sklearn.model_selection import KFold\n",
    "\n",
    "import pandas as pd\n",
    "import numpy as np\n",
    "import matplotlib.pyplot as plt\n",
    "from sklearn.model_selection import train_test_split\n",
    "from sklearn.preprocessing import StandardScaler, LabelEncoder\n",
    "import scipy.stats as stats"
   ]
  },
  {
   "cell_type": "markdown",
   "id": "3c077c7f",
   "metadata": {},
   "source": [
    "## Load Data"
   ]
  },
  {
   "cell_type": "code",
   "execution_count": 11,
   "id": "6e4365d8",
   "metadata": {},
   "outputs": [],
   "source": [
    "file_path = 'data/new_combined_data.csv'\n",
    "data = pd.read_csv(file_path, header=None)\n",
    "\n",
    "file_path = 'data/col_with_hands.txt'\n",
    "columns = pd.read_csv(file_path, header=None)\n",
    "columns = columns.values\n",
    "columns = [item for sublist in columns for item in sublist]\n",
    "data.columns = columns"
   ]
  },
  {
   "cell_type": "code",
   "execution_count": 12,
   "id": "72004fc3",
   "metadata": {},
   "outputs": [
    {
     "data": {
      "text/plain": [
       "four     5561\n",
       "seven    5264\n",
       "six      5237\n",
       "five     5073\n",
       "ten      4815\n",
       "eight    4799\n",
       "nine     4630\n",
       "zero     4595\n",
       "three    4543\n",
       "one      4199\n",
       "two      4185\n",
       "Name: label, dtype: int64"
      ]
     },
     "execution_count": 12,
     "metadata": {},
     "output_type": "execute_result"
    }
   ],
   "source": [
    "data['label'].value_counts()"
   ]
  },
  {
   "cell_type": "markdown",
   "id": "a0bf7aae",
   "metadata": {},
   "source": [
    "## Balance Data"
   ]
  },
  {
   "cell_type": "code",
   "execution_count": 13,
   "id": "f6b5d3e5",
   "metadata": {},
   "outputs": [
    {
     "data": {
      "text/plain": [
       "Index(['four', 'seven', 'six', 'five', 'ten', 'eight', 'nine', 'zero', 'three',\n",
       "       'one', 'two'],\n",
       "      dtype='object')"
      ]
     },
     "execution_count": 13,
     "metadata": {},
     "output_type": "execute_result"
    }
   ],
   "source": [
    "labels = data['label'].value_counts().index\n",
    "labels"
   ]
  },
  {
   "cell_type": "code",
   "execution_count": 14,
   "id": "acc2a59a",
   "metadata": {},
   "outputs": [],
   "source": [
    "four = data[data['label'] == 'four'].head(4185).copy()\n",
    "seven = data[data['label'] == 'seven'].head(4185).copy()\n",
    "six = data[data['label'] == 'six'].head(4185).copy()\n",
    "five = data[data['label'] == 'five'].head(4185).copy()\n",
    "ten = data[data['label'] == 'ten'].head(4185).copy()\n",
    "eight = data[data['label'] == 'eight'].head(4185).copy()\n",
    "nine = data[data['label'] == 'nine'].head(4185).copy()\n",
    "zero = data[data['label'] == 'zero'].head(4185).copy()\n",
    "three = data[data['label'] == 'three'].head(4185).copy()\n",
    "one = data[data['label'] == 'one'].head(4185).copy()\n",
    "two = data[data['label'] == 'two'].copy()\n",
    "\n",
    "balanced_data = pd.DataFrame()\n",
    "balanced_data = pd.concat([one, ten, seven, six, five, three, zero, four, nine, two, eight])"
   ]
  },
  {
   "cell_type": "code",
   "execution_count": 15,
   "id": "b40ee276",
   "metadata": {},
   "outputs": [
    {
     "data": {
      "text/plain": [
       "one      4185\n",
       "ten      4185\n",
       "seven    4185\n",
       "six      4185\n",
       "five     4185\n",
       "three    4185\n",
       "zero     4185\n",
       "four     4185\n",
       "nine     4185\n",
       "two      4185\n",
       "eight    4185\n",
       "Name: label, dtype: int64"
      ]
     },
     "execution_count": 15,
     "metadata": {},
     "output_type": "execute_result"
    }
   ],
   "source": [
    "balanced_data['label'].value_counts()"
   ]
  },
  {
   "cell_type": "code",
   "execution_count": 16,
   "id": "6842bc84",
   "metadata": {},
   "outputs": [
    {
     "data": {
      "text/html": [
       "<div>\n",
       "<style scoped>\n",
       "    .dataframe tbody tr th:only-of-type {\n",
       "        vertical-align: middle;\n",
       "    }\n",
       "\n",
       "    .dataframe tbody tr th {\n",
       "        vertical-align: top;\n",
       "    }\n",
       "\n",
       "    .dataframe thead th {\n",
       "        text-align: right;\n",
       "    }\n",
       "</style>\n",
       "<table border=\"1\" class=\"dataframe\">\n",
       "  <thead>\n",
       "    <tr style=\"text-align: right;\">\n",
       "      <th></th>\n",
       "      <th>hands</th>\n",
       "      <th>fingers</th>\n",
       "      <th>lh_palm_pos_x</th>\n",
       "      <th>lh_palm_pos_y</th>\n",
       "      <th>lh_palm_pos_z</th>\n",
       "      <th>rh_palm_pos_x</th>\n",
       "      <th>rh_palm_pos_y</th>\n",
       "      <th>rh_palm_pos_z</th>\n",
       "      <th>lh_normal_x</th>\n",
       "      <th>lh_normal_y</th>\n",
       "      <th>...</th>\n",
       "      <th>rh_thumb_tip_x</th>\n",
       "      <th>rh_thumb_tip_y</th>\n",
       "      <th>rh_thumb_tip_z</th>\n",
       "      <th>rh_thumb_velocity_x</th>\n",
       "      <th>rh_thumb_velocity_y</th>\n",
       "      <th>rh_thumb_velocity_z</th>\n",
       "      <th>rh_wrist_pos_x</th>\n",
       "      <th>rh_wrist_pos_y</th>\n",
       "      <th>rh_wrist_pos_z</th>\n",
       "      <th>label</th>\n",
       "    </tr>\n",
       "  </thead>\n",
       "  <tbody>\n",
       "    <tr>\n",
       "      <th>4595</th>\n",
       "      <td>1</td>\n",
       "      <td>5</td>\n",
       "      <td>-2.267399</td>\n",
       "      <td>164.093109</td>\n",
       "      <td>86.220093</td>\n",
       "      <td>-2.267399</td>\n",
       "      <td>164.093109</td>\n",
       "      <td>86.220093</td>\n",
       "      <td>-0.243588</td>\n",
       "      <td>0.595211</td>\n",
       "      <td>...</td>\n",
       "      <td>11.157804</td>\n",
       "      <td>212.896317</td>\n",
       "      <td>100.391548</td>\n",
       "      <td>746.382141</td>\n",
       "      <td>2634.570068</td>\n",
       "      <td>2928.313965</td>\n",
       "      <td>-1.929443</td>\n",
       "      <td>113.573937</td>\n",
       "      <td>125.104820</td>\n",
       "      <td>4</td>\n",
       "    </tr>\n",
       "    <tr>\n",
       "      <th>4596</th>\n",
       "      <td>1</td>\n",
       "      <td>5</td>\n",
       "      <td>-5.316841</td>\n",
       "      <td>166.202713</td>\n",
       "      <td>79.796143</td>\n",
       "      <td>-5.316841</td>\n",
       "      <td>166.202713</td>\n",
       "      <td>79.796143</td>\n",
       "      <td>-0.099900</td>\n",
       "      <td>0.614017</td>\n",
       "      <td>...</td>\n",
       "      <td>19.361755</td>\n",
       "      <td>214.822296</td>\n",
       "      <td>98.624107</td>\n",
       "      <td>802.853210</td>\n",
       "      <td>13.330700</td>\n",
       "      <td>-78.761024</td>\n",
       "      <td>-3.670151</td>\n",
       "      <td>117.072601</td>\n",
       "      <td>119.892876</td>\n",
       "      <td>4</td>\n",
       "    </tr>\n",
       "    <tr>\n",
       "      <th>4597</th>\n",
       "      <td>1</td>\n",
       "      <td>5</td>\n",
       "      <td>-7.809026</td>\n",
       "      <td>170.362442</td>\n",
       "      <td>72.614532</td>\n",
       "      <td>-7.809026</td>\n",
       "      <td>170.362442</td>\n",
       "      <td>72.614532</td>\n",
       "      <td>-0.042060</td>\n",
       "      <td>0.625803</td>\n",
       "      <td>...</td>\n",
       "      <td>22.190699</td>\n",
       "      <td>218.727921</td>\n",
       "      <td>88.537971</td>\n",
       "      <td>-43.821011</td>\n",
       "      <td>73.738022</td>\n",
       "      <td>-373.284332</td>\n",
       "      <td>-5.540063</td>\n",
       "      <td>122.022614</td>\n",
       "      <td>113.463715</td>\n",
       "      <td>4</td>\n",
       "    </tr>\n",
       "    <tr>\n",
       "      <th>4598</th>\n",
       "      <td>1</td>\n",
       "      <td>5</td>\n",
       "      <td>-7.843538</td>\n",
       "      <td>172.330566</td>\n",
       "      <td>70.575455</td>\n",
       "      <td>-7.843538</td>\n",
       "      <td>172.330566</td>\n",
       "      <td>70.575455</td>\n",
       "      <td>-0.029886</td>\n",
       "      <td>0.602988</td>\n",
       "      <td>...</td>\n",
       "      <td>23.494055</td>\n",
       "      <td>219.644684</td>\n",
       "      <td>87.215561</td>\n",
       "      <td>-6.882928</td>\n",
       "      <td>62.349968</td>\n",
       "      <td>-126.796227</td>\n",
       "      <td>-6.491505</td>\n",
       "      <td>123.114929</td>\n",
       "      <td>110.209236</td>\n",
       "      <td>4</td>\n",
       "    </tr>\n",
       "    <tr>\n",
       "      <th>4599</th>\n",
       "      <td>1</td>\n",
       "      <td>5</td>\n",
       "      <td>-7.804166</td>\n",
       "      <td>174.209656</td>\n",
       "      <td>68.718132</td>\n",
       "      <td>-7.804166</td>\n",
       "      <td>174.209656</td>\n",
       "      <td>68.718132</td>\n",
       "      <td>-0.018148</td>\n",
       "      <td>0.596123</td>\n",
       "      <td>...</td>\n",
       "      <td>24.457937</td>\n",
       "      <td>220.868011</td>\n",
       "      <td>85.326462</td>\n",
       "      <td>-16.562511</td>\n",
       "      <td>66.917625</td>\n",
       "      <td>-93.589287</td>\n",
       "      <td>-7.117955</td>\n",
       "      <td>124.774231</td>\n",
       "      <td>107.997620</td>\n",
       "      <td>4</td>\n",
       "    </tr>\n",
       "  </tbody>\n",
       "</table>\n",
       "<p>5 rows × 141 columns</p>\n",
       "</div>"
      ],
      "text/plain": [
       "      hands  fingers  lh_palm_pos_x  lh_palm_pos_y  lh_palm_pos_z  \\\n",
       "4595      1        5      -2.267399     164.093109      86.220093   \n",
       "4596      1        5      -5.316841     166.202713      79.796143   \n",
       "4597      1        5      -7.809026     170.362442      72.614532   \n",
       "4598      1        5      -7.843538     172.330566      70.575455   \n",
       "4599      1        5      -7.804166     174.209656      68.718132   \n",
       "\n",
       "      rh_palm_pos_x  rh_palm_pos_y  rh_palm_pos_z  lh_normal_x  lh_normal_y  \\\n",
       "4595      -2.267399     164.093109      86.220093    -0.243588     0.595211   \n",
       "4596      -5.316841     166.202713      79.796143    -0.099900     0.614017   \n",
       "4597      -7.809026     170.362442      72.614532    -0.042060     0.625803   \n",
       "4598      -7.843538     172.330566      70.575455    -0.029886     0.602988   \n",
       "4599      -7.804166     174.209656      68.718132    -0.018148     0.596123   \n",
       "\n",
       "      ...  rh_thumb_tip_x  rh_thumb_tip_y  rh_thumb_tip_z  \\\n",
       "4595  ...       11.157804      212.896317      100.391548   \n",
       "4596  ...       19.361755      214.822296       98.624107   \n",
       "4597  ...       22.190699      218.727921       88.537971   \n",
       "4598  ...       23.494055      219.644684       87.215561   \n",
       "4599  ...       24.457937      220.868011       85.326462   \n",
       "\n",
       "      rh_thumb_velocity_x  rh_thumb_velocity_y  rh_thumb_velocity_z  \\\n",
       "4595           746.382141          2634.570068          2928.313965   \n",
       "4596           802.853210            13.330700           -78.761024   \n",
       "4597           -43.821011            73.738022          -373.284332   \n",
       "4598            -6.882928            62.349968          -126.796227   \n",
       "4599           -16.562511            66.917625           -93.589287   \n",
       "\n",
       "      rh_wrist_pos_x  rh_wrist_pos_y  rh_wrist_pos_z  label  \n",
       "4595       -1.929443      113.573937      125.104820      4  \n",
       "4596       -3.670151      117.072601      119.892876      4  \n",
       "4597       -5.540063      122.022614      113.463715      4  \n",
       "4598       -6.491505      123.114929      110.209236      4  \n",
       "4599       -7.117955      124.774231      107.997620      4  \n",
       "\n",
       "[5 rows x 141 columns]"
      ]
     },
     "execution_count": 16,
     "metadata": {},
     "output_type": "execute_result"
    }
   ],
   "source": [
    "label = LabelEncoder()\n",
    "balanced_data['label'] = label.fit_transform(balanced_data['label'])\n",
    "balanced_data.head()"
   ]
  },
  {
   "cell_type": "code",
   "execution_count": 17,
   "id": "dd439fb6",
   "metadata": {},
   "outputs": [
    {
     "data": {
      "text/plain": [
       "array(['eight', 'five', 'four', 'nine', 'one', 'seven', 'six', 'ten',\n",
       "       'three', 'two', 'zero'], dtype=object)"
      ]
     },
     "execution_count": 17,
     "metadata": {},
     "output_type": "execute_result"
    }
   ],
   "source": [
    "label.classes_"
   ]
  },
  {
   "cell_type": "markdown",
   "id": "889b43db",
   "metadata": {},
   "source": [
    "## Sample Data"
   ]
  },
  {
   "cell_type": "code",
   "execution_count": 18,
   "id": "4513235f",
   "metadata": {},
   "outputs": [],
   "source": [
    "Fs = 10\n",
    "frame_size = Fs * 2    # 20 samples\n",
    "hop_size = Fs * 1         # increment of 10 samples\n",
    "\n",
    "def get_frames(df, frame_size, hop_size):\n",
    "    N_FEATURES = 140    \n",
    "    \n",
    "    frames = []\n",
    "    labels = []  \n",
    "    for i in range(0, len(df) - frame_size, hop_size):\n",
    "        hands = df['hands'].values[i: i + frame_size]\n",
    "        fingers = df['fingers'].values[i: i + frame_size]\n",
    "        lh_palm_pos_x = df['lh_palm_pos_x'].values[i: i + frame_size]\n",
    "        lh_palm_pos_y = df['lh_palm_pos_y'].values[i: i + frame_size]\n",
    "        lh_palm_pos_z = df['lh_palm_pos_z'].values[i: i + frame_size]      \n",
    "        rh_palm_pos_x = df['rh_palm_pos_x'].values[i: i + frame_size]\n",
    "        rh_palm_pos_y = df['rh_palm_pos_y'].values[i: i + frame_size]\n",
    "        rh_palm_pos_z = df['rh_palm_pos_z'].values[i: i + frame_size]\n",
    "        lh_normal_x = df['lh_normal_x'].values[i: i + frame_size]\n",
    "        lh_normal_y = df['lh_normal_y'].values[i: i + frame_size]\n",
    "        lh_normal_z = df['lh_normal_z'].values[i: i + frame_size]\n",
    "        rh_normal_x = df['rh_normal_x'].values[i: i + frame_size]\n",
    "        rh_normal_y = df['rh_normal_y'].values[i: i + frame_size]\n",
    "        rh_normal_z = df['rh_normal_z'].values[i: i + frame_size]\n",
    "        lh_direction_x = df['lh_direction_x'].values[i: i + frame_size]\n",
    "        lh_direction_y = df['lh_direction_y'].values[i: i + frame_size]\n",
    "        lh_direction_z = df['lh_direction_z'].values[i: i + frame_size]\n",
    "        rh_direction_x = df['rh_direction_x'].values[i: i + frame_size]\n",
    "        rh_direction_y = df['rh_direction_y'].values[i: i + frame_size]\n",
    "        rh_direction_z = df['rh_direction_z'].values[i: i + frame_size]\n",
    "        lh_index_direction_x = df['lh_index_direction_x'].values[i: i + frame_size]\n",
    "        lh_index_direction_y = df['lh_index_direction_y'].values[i: i + frame_size]\n",
    "        lh_index_direction_z = df['lh_index_direction_z'].values[i: i + frame_size]\n",
    "        lh_index_extended = df['lh_index_extended'].values[i: i + frame_size]\n",
    "        lh_index_tip_x = df['lh_index_tip_x'].values[i: i + frame_size]\n",
    "        lh_index_tip_y = df['lh_index_tip_y'].values[i: i + frame_size]\n",
    "        lh_index_tip_z = df['lh_index_tip_z'].values[i: i + frame_size]\n",
    "        lh_index_velocity_x = df['lh_index_velocity_x'].values[i: i + frame_size]\n",
    "        lh_index_velocity_y = df['lh_index_velocity_y'].values[i: i + frame_size]\n",
    "        lh_index_velocity_z = df['lh_index_velocity_z'].values[i: i + frame_size]\n",
    "        lh_middle_direction_x = df['lh_middle_direction_x'].values[i: i + frame_size]\n",
    "        lh_middle_direction_y = df['lh_middle_direction_y'].values[i: i + frame_size]\n",
    "        lh_middle_direction_z = df['lh_middle_direction_z'].values[i: i + frame_size]\n",
    "        lh_middle_extended = df['lh_middle_extended'].values[i: i + frame_size]\n",
    "        lh_middle_tip_x = df['lh_middle_tip_x'].values[i: i + frame_size]\n",
    "        lh_middle_tip_y = df['lh_middle_tip_y'].values[i: i + frame_size]\n",
    "        lh_middle_tip_z = df['lh_middle_tip_z'].values[i: i + frame_size]\n",
    "        lh_middle_velocity_x = df['lh_middle_velocity_x'].values[i: i + frame_size]\n",
    "        lh_middle_velocity_y = df['lh_middle_velocity_y'].values[i: i + frame_size]\n",
    "        lh_middle_velocity_z = df['lh_middle_velocity_z'].values[i: i + frame_size]\n",
    "        lh_palm_vel_x = df['lh_palm_vel_x'].values[i: i + frame_size]       \n",
    "        lh_palm_vel_y = df['lh_palm_vel_y'].values[i: i + frame_size]\n",
    "        lh_palm_vel_z = df['lh_palm_vel_z'].values[i: i + frame_size]\n",
    "        lh_pinky_direction_x = df['lh_pinky_direction_x'].values[i: i + frame_size]\n",
    "        lh_pinky_direction_y = df['lh_pinky_direction_y'].values[i: i + frame_size]\n",
    "        lh_pinky_direction_z = df['lh_pinky_direction_z'].values[i: i + frame_size]\n",
    "        lh_pinky_extended = df['lh_pinky_extended'].values[i: i + frame_size]\n",
    "        lh_pinky_tip_x = df['lh_pinky_tip_x'].values[i: i + frame_size]\n",
    "        lh_pinky_tip_y = df['lh_pinky_tip_y'].values[i: i + frame_size]\n",
    "        lh_pinky_tip_z = df['lh_pinky_tip_z'].values[i: i + frame_size]\n",
    "        lh_pinky_velocity_x = df['lh_pinky_velocity_x'].values[i: i + frame_size]\n",
    "        lh_pinky_velocity_y = df['lh_pinky_velocity_y'].values[i: i + frame_size]\n",
    "        lh_pinky_velocity_z = df['lh_pinky_velocity_z'].values[i: i + frame_size]\n",
    "        lh_ring_direction_x = df['lh_ring_direction_x'].values[i: i + frame_size]\n",
    "        lh_ring_direction_y = df['lh_ring_direction_y'].values[i: i + frame_size]\n",
    "        lh_ring_direction_z = df['lh_ring_direction_z'].values[i: i + frame_size]\n",
    "        lh_ring_extended = df['lh_ring_extended'].values[i: i + frame_size]\n",
    "        lh_ring_tip_x = df['lh_ring_tip_x'].values[i: i + frame_size]\n",
    "        lh_ring_tip_y = df['lh_ring_tip_y'].values[i: i + frame_size]\n",
    "        lh_ring_tip_z = df['lh_ring_tip_z'].values[i: i + frame_size]\n",
    "        lh_ring_velocity_x = df['lh_ring_velocity_x'].values[i: i + frame_size]\n",
    "        lh_ring_velocity_y = df['lh_ring_velocity_y'].values[i: i + frame_size]\n",
    "        lh_ring_velocity_z = df['lh_ring_velocity_z'].values[i: i + frame_size]\n",
    "        lh_sphere_center_x = df['lh_sphere_center_x'].values[i: i + frame_size]\n",
    "        lh_sphere_center_y = df['lh_sphere_center_y'].values[i: i + frame_size]\n",
    "        lh_sphere_center_z = df['lh_sphere_center_z'].values[i: i + frame_size]\n",
    "        lh_sphere_radius = df['lh_sphere_radius'].values[i: i + frame_size]\n",
    "        lh_thumb_direction_x = df['lh_thumb_direction_x'].values[i: i + frame_size]\n",
    "        lh_thumb_direction_y = df['lh_thumb_direction_y'].values[i: i + frame_size]\n",
    "        lh_thumb_direction_z = df['lh_thumb_direction_z'].values[i: i + frame_size]\n",
    "        lh_thumb_extended = df['lh_thumb_extended'].values[i: i + frame_size]        \n",
    "        lh_thumb_tip_x = df['lh_thumb_tip_x'].values[i: i + frame_size]\n",
    "        lh_thumb_tip_y = df['lh_thumb_tip_y'].values[i: i + frame_size]\n",
    "        lh_thumb_tip_z = df['lh_thumb_tip_z'].values[i: i + frame_size]\n",
    "        lh_thumb_velocity_x = df['lh_thumb_velocity_x'].values[i: i + frame_size]\n",
    "        lh_thumb_velocity_y = df['lh_thumb_velocity_y'].values[i: i + frame_size]\n",
    "        lh_thumb_velocity_z = df['lh_thumb_velocity_z'].values[i: i + frame_size]\n",
    "        lh_wrist_pos_x = df['lh_wrist_pos_x'].values[i: i + frame_size]\n",
    "        lh_wrist_pos_y = df['lh_wrist_pos_y'].values[i: i + frame_size]\n",
    "        lh_wrist_pos_z = df['lh_wrist_pos_z'].values[i: i + frame_size]\n",
    "        rh_index_direction_x = df['rh_index_direction_x'].values[i: i + frame_size]\n",
    "        rh_index_direction_y = df['rh_index_direction_y'].values[i: i + frame_size]\n",
    "        rh_index_direction_z = df['rh_index_direction_z'].values[i: i + frame_size]\n",
    "        rh_index_extended = df['rh_index_extended'].values[i: i + frame_size]\n",
    "        rh_index_tip_x = df['rh_index_tip_x'].values[i: i + frame_size]\n",
    "        rh_index_tip_y = df['rh_index_tip_y'].values[i: i + frame_size]\n",
    "        rh_index_tip_z = df['rh_index_tip_z'].values[i: i + frame_size]\n",
    "        rh_index_velocity_x = df['rh_index_velocity_x'].values[i: i + frame_size]\n",
    "        rh_index_velocity_y = df['rh_index_velocity_y'].values[i: i + frame_size]\n",
    "        rh_index_velocity_z = df['rh_index_velocity_z'].values[i: i + frame_size]\n",
    "        rh_middle_direction_x = df['rh_middle_direction_x'].values[i: i + frame_size]\n",
    "        rh_middle_direction_y = df['rh_middle_direction_y'].values[i: i + frame_size]\n",
    "        rh_middle_direction_z = df['rh_middle_direction_z'].values[i: i + frame_size]\n",
    "        rh_middle_extended = df['rh_middle_extended'].values[i: i + frame_size]\n",
    "        rh_middle_tip_x = df['rh_middle_tip_x'].values[i: i + frame_size]\n",
    "        rh_middle_tip_y = df['rh_middle_tip_y'].values[i: i + frame_size]\n",
    "        rh_middle_tip_z = df['rh_middle_tip_z'].values[i: i + frame_size]\n",
    "        rh_middle_velocity_x = df['rh_middle_velocity_x'].values[i: i + frame_size]\n",
    "        rh_middle_velocity_y = df['rh_middle_velocity_y'].values[i: i + frame_size]\n",
    "        rh_middle_velocity_z = df['rh_middle_velocity_z'].values[i: i + frame_size]\n",
    "        rh_palm_vel_x = df['rh_palm_vel_x'].values[i: i + frame_size]\n",
    "        rh_palm_vel_y = df['rh_palm_vel_y'].values[i: i + frame_size]\n",
    "        rh_palm_vel_z = df['rh_palm_vel_z'].values[i: i + frame_size]\n",
    "        rh_pinky_direction_x = df['rh_pinky_direction_x'].values[i: i + frame_size]\n",
    "        rh_pinky_direction_y = df['rh_pinky_direction_y'].values[i: i + frame_size]\n",
    "        rh_pinky_direction_z = df['rh_pinky_direction_z'].values[i: i + frame_size]\n",
    "        rh_pinky_extended = df['rh_pinky_extended'].values[i: i + frame_size]\n",
    "        rh_pinky_tip_x = df['rh_pinky_tip_x'].values[i: i + frame_size]\n",
    "        rh_pinky_tip_y = df['rh_pinky_tip_y'].values[i: i + frame_size]\n",
    "        rh_pinky_tip_z = df['rh_pinky_tip_z'].values[i: i + frame_size]        \n",
    "        rh_pinky_velocity_x = df['rh_pinky_velocity_x'].values[i: i + frame_size]\n",
    "        rh_pinky_velocity_y = df['rh_pinky_velocity_y'].values[i: i + frame_size]\n",
    "        rh_pinky_velocity_z = df['rh_pinky_velocity_z'].values[i: i + frame_size]\n",
    "        rh_ring_direction_x = df['rh_ring_direction_x'].values[i: i + frame_size]\n",
    "        rh_ring_direction_y = df['rh_ring_direction_y'].values[i: i + frame_size]\n",
    "        rh_ring_direction_z = df['rh_ring_direction_z'].values[i: i + frame_size]\n",
    "        rh_ring_extended = df['rh_ring_extended'].values[i: i + frame_size]\n",
    "        rh_ring_tip_x = df['rh_ring_tip_x'].values[i: i + frame_size]\n",
    "        rh_ring_tip_y = df['rh_ring_tip_y'].values[i: i + frame_size]\n",
    "        rh_ring_tip_z = df['rh_ring_tip_z'].values[i: i + frame_size]\n",
    "        rh_ring_velocity_x = df['rh_ring_velocity_x'].values[i: i + frame_size]\n",
    "        rh_ring_velocity_y = df['rh_ring_velocity_y'].values[i: i + frame_size]\n",
    "        rh_ring_velocity_z = df['rh_ring_velocity_z'].values[i: i + frame_size]\n",
    "        rh_sphere_center_x = df['rh_sphere_center_x'].values[i: i + frame_size]\n",
    "        rh_sphere_center_y = df['rh_sphere_center_y'].values[i: i + frame_size]\n",
    "        rh_sphere_center_z = df['rh_sphere_center_z'].values[i: i + frame_size]\n",
    "        rh_sphere_radius = df['rh_sphere_radius'].values[i: i + frame_size]\n",
    "        rh_thumb_direction_x = df['rh_thumb_direction_x'].values[i: i + frame_size]\n",
    "        rh_thumb_direction_y = df['rh_thumb_direction_y'].values[i: i + frame_size]\n",
    "        rh_thumb_direction_z = df['rh_thumb_direction_z'].values[i: i + frame_size]\n",
    "        rh_thumb_extended = df['rh_thumb_extended'].values[i: i + frame_size]\n",
    "        rh_thumb_tip_x = df['rh_thumb_tip_x'].values[i: i + frame_size]\n",
    "        rh_thumb_tip_y = df['rh_thumb_tip_y'].values[i: i + frame_size]\n",
    "        rh_thumb_tip_z = df['rh_thumb_tip_z'].values[i: i + frame_size]\n",
    "        rh_thumb_velocity_x = df['rh_thumb_velocity_x'].values[i: i + frame_size]\n",
    "        rh_thumb_velocity_y = df['rh_thumb_velocity_y'].values[i: i + frame_size]\n",
    "        rh_thumb_velocity_z = df['rh_thumb_velocity_z'].values[i: i + frame_size]   \n",
    "        rh_wrist_pos_x = df['rh_wrist_pos_x'].values[i: i + frame_size]\n",
    "        rh_wrist_pos_y = df['rh_wrist_pos_y'].values[i: i + frame_size]\n",
    "        rh_wrist_pos_z = df['rh_wrist_pos_z'].values[i: i + frame_size]\n",
    "        \n",
    "        # Retrieve the most common label in this data sample\n",
    "        label = stats.mode(df['label'][i: i + frame_size])[0][0]\n",
    "        frames.append([hands,fingers,lh_palm_pos_x,lh_palm_pos_y,lh_palm_pos_z,rh_palm_pos_x,rh_palm_pos_y,rh_palm_pos_z,lh_normal_x,lh_normal_y,lh_normal_z,rh_normal_x,rh_normal_y,rh_normal_z,lh_direction_x,lh_direction_y,lh_direction_z,rh_direction_x,rh_direction_y,rh_direction_z,lh_index_direction_x,lh_index_direction_y,lh_index_direction_z,lh_index_extended,lh_index_tip_x,lh_index_tip_y,lh_index_tip_z,lh_index_velocity_x,lh_index_velocity_y,lh_index_velocity_z,lh_middle_direction_x,lh_middle_direction_y,lh_middle_direction_z,lh_middle_extended,lh_middle_tip_x,lh_middle_tip_y,lh_middle_tip_z,lh_middle_velocity_x,lh_middle_velocity_y,lh_middle_velocity_z,lh_palm_vel_x,lh_palm_vel_y,lh_palm_vel_z,lh_pinky_direction_x,lh_pinky_direction_y,lh_pinky_direction_z,lh_pinky_extended,lh_pinky_tip_x,lh_pinky_tip_y,lh_pinky_tip_z,lh_pinky_velocity_x,lh_pinky_velocity_y,lh_pinky_velocity_z,lh_ring_direction_x,lh_ring_direction_y,lh_ring_direction_z,lh_ring_extended,lh_ring_tip_x,lh_ring_tip_y,lh_ring_tip_z,lh_ring_velocity_x,lh_ring_velocity_y,lh_ring_velocity_z,lh_sphere_center_x,lh_sphere_center_y,lh_sphere_center_z,lh_sphere_radius,lh_thumb_direction_x,lh_thumb_direction_y,lh_thumb_direction_z,lh_thumb_extended,lh_thumb_tip_x,lh_thumb_tip_y,lh_thumb_tip_z,lh_thumb_velocity_x,lh_thumb_velocity_y,lh_thumb_velocity_z,lh_wrist_pos_x,lh_wrist_pos_y,lh_wrist_pos_z,rh_index_direction_x,rh_index_direction_y,rh_index_direction_z,rh_index_extended,rh_index_tip_x,rh_index_tip_y,rh_index_tip_z,rh_index_velocity_x,rh_index_velocity_y,rh_index_velocity_z,rh_middle_direction_x,rh_middle_direction_y,rh_middle_direction_z,rh_middle_extended,rh_middle_tip_x,rh_middle_tip_y,rh_middle_tip_z,rh_middle_velocity_x,rh_middle_velocity_y,rh_middle_velocity_z,rh_palm_vel_x,rh_palm_vel_y,rh_palm_vel_z,rh_pinky_direction_x,rh_pinky_direction_y,rh_pinky_direction_z,rh_pinky_extended,rh_pinky_tip_x,rh_pinky_tip_y,rh_pinky_tip_z,rh_pinky_velocity_x,rh_pinky_velocity_y,rh_pinky_velocity_z,rh_ring_direction_x,rh_ring_direction_y,rh_ring_direction_z,rh_ring_extended,rh_ring_tip_x,rh_ring_tip_y,rh_ring_tip_z,rh_ring_velocity_x,rh_ring_velocity_y,rh_ring_velocity_z,rh_sphere_center_x,rh_sphere_center_y,rh_sphere_center_z,rh_sphere_radius,rh_thumb_direction_x,rh_thumb_direction_y,rh_thumb_direction_z,rh_thumb_extended,rh_thumb_tip_x,rh_thumb_tip_y,rh_thumb_tip_z,rh_thumb_velocity_x,rh_thumb_velocity_y,rh_thumb_velocity_z,rh_wrist_pos_x,rh_wrist_pos_y,rh_wrist_pos_z])\n",
    "        labels.append(label)\n",
    "            \n",
    "     # Convert to np array\n",
    "    frames = np.asarray(frames).reshape(-1, frame_size, N_FEATURES)\n",
    "    labels = np.asarray(labels)\n",
    "    \n",
    "    return frames, labels"
   ]
  },
  {
   "cell_type": "code",
   "execution_count": 19,
   "id": "47a53dc1",
   "metadata": {},
   "outputs": [],
   "source": [
    "X, y = get_frames(balanced_data, frame_size, hop_size)\n",
    "X_train, X_test, y_train, y_test = train_test_split(X, y, test_size=0.3, random_state=0, stratify=y)\n",
    "\n",
    "# Reshape into 3-dimentional\n",
    "X_train = X_train.reshape(X_train.shape[0], X_train.shape[1], X_train.shape[2], 1)\n",
    "X_test = X_test.reshape(X_test.shape[0], X_test.shape[1], X_train.shape[2], 1)"
   ]
  },
  {
   "cell_type": "markdown",
   "id": "c0807645",
   "metadata": {},
   "source": [
    "## Setup CNN Model"
   ]
  },
  {
   "cell_type": "code",
   "execution_count": 20,
   "id": "fd320db3",
   "metadata": {},
   "outputs": [],
   "source": [
    "model = Sequential()\n",
    "model.add(Conv2D(16, (2, 2), activation = 'relu', input_shape = X_train[0].shape))\n",
    "model.add(Conv2D(32, (2, 2), activation='relu'))\n",
    "model.add(Flatten())\n",
    "model.add(Dense(64, activation='relu'))\n",
    "model.add(Dense(11, activation='softmax'))"
   ]
  },
  {
   "cell_type": "code",
   "execution_count": 21,
   "id": "c6a1cc2c",
   "metadata": {},
   "outputs": [],
   "source": [
    "model.compile(optimizer=Adam(learning_rate=0.001), loss='sparse_categorical_crossentropy', metrics=['accuracy'])"
   ]
  },
  {
   "cell_type": "code",
   "execution_count": 22,
   "id": "6aeb9dca",
   "metadata": {},
   "outputs": [
    {
     "name": "stdout",
     "output_type": "stream",
     "text": [
      "Epoch 1/10\n",
      "101/101 [==============================] - 7s 49ms/step - loss: 23.2287 - accuracy: 0.3648 - val_loss: 1.5365 - val_accuracy: 0.5069\n",
      "Epoch 2/10\n",
      "101/101 [==============================] - 5s 47ms/step - loss: 0.8717 - accuracy: 0.6740 - val_loss: 1.0520 - val_accuracy: 0.8059\n",
      "Epoch 3/10\n",
      "101/101 [==============================] - 5s 47ms/step - loss: 0.4627 - accuracy: 0.8687 - val_loss: 0.8158 - val_accuracy: 0.8993\n",
      "Epoch 4/10\n",
      "101/101 [==============================] - 5s 47ms/step - loss: 0.3484 - accuracy: 0.9168 - val_loss: 0.7503 - val_accuracy: 0.8950\n",
      "Epoch 5/10\n",
      "101/101 [==============================] - 5s 47ms/step - loss: 0.2396 - accuracy: 0.9326 - val_loss: 0.6494 - val_accuracy: 0.9232\n",
      "Epoch 6/10\n",
      "101/101 [==============================] - 5s 48ms/step - loss: 0.1889 - accuracy: 0.9407 - val_loss: 0.6994 - val_accuracy: 0.9261\n",
      "Epoch 7/10\n",
      "101/101 [==============================] - 5s 47ms/step - loss: 0.1935 - accuracy: 0.9450 - val_loss: 0.5775 - val_accuracy: 0.8993\n",
      "Epoch 8/10\n",
      "101/101 [==============================] - 5s 47ms/step - loss: 0.2081 - accuracy: 0.9426 - val_loss: 0.5482 - val_accuracy: 0.9334\n",
      "Epoch 9/10\n",
      "101/101 [==============================] - 5s 48ms/step - loss: 0.1439 - accuracy: 0.9581 - val_loss: 0.6556 - val_accuracy: 0.9363\n",
      "Epoch 10/10\n",
      "101/101 [==============================] - 5s 49ms/step - loss: 0.1399 - accuracy: 0.9568 - val_loss: 0.8681 - val_accuracy: 0.9298\n"
     ]
    }
   ],
   "source": [
    "history = model.fit(X_train, y_train, epochs=10, validation_data=(X_test, y_test), verbose=1)"
   ]
  },
  {
   "cell_type": "markdown",
   "id": "6785f99e",
   "metadata": {},
   "source": [
    "## Accuracy and Loss Visualisation"
   ]
  },
  {
   "cell_type": "code",
   "execution_count": 23,
   "id": "02808679",
   "metadata": {},
   "outputs": [],
   "source": [
    "def plot_learning_curve(history, epochs):\n",
    "    # training and validation values\n",
    "    epoch_range = range(1, epochs + 1)\n",
    "    plt.plot(epoch_range, history.history['accuracy'])\n",
    "    plt.plot(epoch_range, history.history['val_accuracy'])\n",
    "    plt.title('Model accuracy')\n",
    "    plt.ylabel('Accuracy')\n",
    "    plt.xlabel('Epoch')\n",
    "    plt.legend(['Train', 'Val'], loc='upper left')\n",
    "    plt.show()\n",
    "    \n",
    "    # training and validation loss values\n",
    "    plt.plot(epoch_range, history.history['loss'])\n",
    "    plt.plot(epoch_range, history.history['val_loss'])\n",
    "    plt.title('Model loss')\n",
    "    plt.ylabel('Loss')\n",
    "    plt.xlabel('Epoch')\n",
    "    plt.legend(['Train', 'Val'], loc='upper left')\n",
    "    plt.show()"
   ]
  },
  {
   "cell_type": "code",
   "execution_count": 24,
   "id": "20cb3f24",
   "metadata": {},
   "outputs": [
    {
     "data": {
      "image/png": "[encoded data removed]",
      "text/plain": [
       "<Figure size 432x288 with 1 Axes>"
      ]
     },
     "metadata": {
      "needs_background": "light"
     },
     "output_type": "display_data"
    },
    {
     "data": {
      "image/png": "[encoded data removed]",
      "text/plain": [
       "<Figure size 432x288 with 1 Axes>"
      ]
     },
     "metadata": {
      "needs_background": "light"
     },
     "output_type": "display_data"
    }
   ],
   "source": [
    "plot_learning_curve(history, 10)"
   ]
  },
  {
   "cell_type": "markdown",
   "id": "1ab382e3",
   "metadata": {},
   "source": [
    "## Confusion Matrix"
   ]
  },
  {
   "cell_type": "code",
   "execution_count": 25,
   "id": "7ed595fc",
   "metadata": {},
   "outputs": [],
   "source": [
    "from mlxtend.plotting import plot_confusion_matrix\n",
    "from sklearn.metrics import confusion_matrix\n",
    "\n",
    "y_pred = model.predict(X_test)\n",
    "\n",
    "max_y_pred = []\n",
    "for item in y_pred:\n",
    "    max_y_pred.append(np.argmax(item))"
   ]
  },
  {
   "cell_type": "code",
   "execution_count": 26,
   "id": "356619ff",
   "metadata": {},
   "outputs": [
    {
     "data": {
      "text/plain": [
       "(<Figure size 504x504 with 1 Axes>,\n",
       " <AxesSubplot:xlabel='predicted label', ylabel='true label'>)"
      ]
     },
     "execution_count": 26,
     "metadata": {},
     "output_type": "execute_result"
    },
    {
     "data": {
      "image/png": "[encoded data removed]",
      "text/plain": [
       "<Figure size 504x504 with 1 Axes>"
      ]
     },
     "metadata": {
      "needs_background": "light"
     },
     "output_type": "display_data"
    }
   ],
   "source": [
    "mat = confusion_matrix(y_test, max_y_pred)\n",
    "plot_confusion_matrix(conf_mat=mat, class_names=label.classes_, show_normed=False, figsize=(7, 7))"
   ]
  },
  {
   "cell_type": "markdown",
   "id": "4cc63018",
   "metadata": {},
   "source": [
    "## Save Model"
   ]
  },
  {
   "cell_type": "code",
   "execution_count": 27,
   "id": "4a5d92de",
   "metadata": {},
   "outputs": [
    {
     "name": "stdout",
     "output_type": "stream",
     "text": [
      "INFO:tensorflow:Assets written to: saved_models/sampling\\assets\n"
     ]
    }
   ],
   "source": [
    "model.save('saved_models/sampling')"
   ]
  },
  {
   "cell_type": "code",
   "execution_count": null,
   "id": "4c7d6464",
   "metadata": {},
   "outputs": [],
   "source": []
  }
 ],
 "metadata": {
  "kernelspec": {
   "display_name": "Python 3 (ipykernel)",
   "language": "python",
   "name": "python3"
  },
  "language_info": {
   "codemirror_mode": {
    "name": "ipython",
    "version": 3
   },
   "file_extension": ".py",
   "mimetype": "text/x-python",
   "name": "python",
   "nbconvert_exporter": "python",
   "pygments_lexer": "ipython3",
   "version": "3.9.0"
  }
 },
 "nbformat": 4,
 "nbformat_minor": 5
}
