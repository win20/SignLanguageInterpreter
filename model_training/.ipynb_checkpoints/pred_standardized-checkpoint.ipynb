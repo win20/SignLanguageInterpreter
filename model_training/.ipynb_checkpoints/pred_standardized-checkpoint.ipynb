{
 "cells": [
  {
   "cell_type": "code",
   "execution_count": 28,
   "id": "7903a1cd",
   "metadata": {},
   "outputs": [],
   "source": [
    "import tensorflow as tf\n",
    "from tensorflow.keras import Sequential\n",
    "from tensorflow.keras.layers import Flatten, Dense, Dropout, BatchNormalization\n",
    "from tensorflow.keras.layers import Conv2D, MaxPool2D\n",
    "from tensorflow.keras.optimizers import Adam\n",
    "from keras.wrappers.scikit_learn import KerasClassifier\n",
    "from sklearn.model_selection import cross_val_score\n",
    "from sklearn.model_selection import KFold\n",
    "from keras.utils import np_utils\n",
    "\n",
    "import pandas as pd\n",
    "import numpy as np\n",
    "import matplotlib.pyplot as plt\n",
    "from sklearn.model_selection import train_test_split\n",
    "from sklearn.preprocessing import StandardScaler, LabelEncoder, MinMaxScaler\n",
    "import scipy.stats as stats\n",
    "from sklearn import preprocessing, model_selection"
   ]
  },
  {
   "cell_type": "markdown",
   "id": "213372f3",
   "metadata": {},
   "source": [
    "## Load data & process data"
   ]
  },
  {
   "cell_type": "code",
   "execution_count": 48,
   "id": "17a1693a",
   "metadata": {},
   "outputs": [],
   "source": [
    "data = pd.read_csv('data/sep_num_data/1r.csv')\n",
    "\n",
    "# Load columns\n",
    "file_path = 'data/col_with_hands.txt'\n",
    "columns = pd.read_csv(file_path, header=None)\n",
    "\n",
    "# Add columns to df\n",
    "# columns = columns.values\n",
    "# columns = [item for sublist in columns for item in sublist]\n",
    "# data.columns = columns"
   ]
  },
  {
   "cell_type": "markdown",
   "id": "8bb714ac",
   "metadata": {},
   "source": [
    "## Standardize data"
   ]
  },
  {
   "cell_type": "code",
   "execution_count": 49,
   "id": "cec30a71",
   "metadata": {},
   "outputs": [],
   "source": [
    "X = data.iloc[: ,:140]\n",
    "y = data['label']"
   ]
  },
  {
   "cell_type": "code",
   "execution_count": 50,
   "id": "e9427b6e",
   "metadata": {},
   "outputs": [],
   "source": [
    "scaler = StandardScaler()\n",
    "X = scaler.fit_transform(X)\n",
    "\n",
    "scaled_data = pd.DataFrame(data = X)"
   ]
  },
  {
   "cell_type": "code",
   "execution_count": 51,
   "id": "80e10c3a",
   "metadata": {},
   "outputs": [],
   "source": [
    "dataset = scaled_data.values\n",
    "X = dataset[:,0:140].astype(float)"
   ]
  },
  {
   "cell_type": "markdown",
   "id": "5c057e03",
   "metadata": {},
   "source": [
    "## Make prediction"
   ]
  },
  {
   "cell_type": "code",
   "execution_count": 52,
   "id": "d876feb0",
   "metadata": {},
   "outputs": [
    {
     "name": "stdout",
     "output_type": "stream",
     "text": [
      "four\n"
     ]
    }
   ],
   "source": [
    "# load and process model\n",
    "model = tf.keras.models.load_model('saved_models/standardized_data/')\n",
    "probability_model = tf.keras.Sequential([model, tf.keras.layers.Softmax()])\n",
    "\n",
    "# make predictions on data and find most common prediction\n",
    "predictions = probability_model.predict(X)\n",
    "prediction_indices = []\n",
    "for item in predictions:\n",
    "    prediction_indices.append(np.argmax(item))\n",
    "    \n",
    "counter = 0\n",
    "max_num = prediction_indices[0]\n",
    "for item in prediction_indices:\n",
    "    current_frequency = prediction_indices.count(item)\n",
    "    if current_frequency > counter:\n",
    "        counter = current_frequency\n",
    "        max_num = item\n",
    "        \n",
    "labels = ['eight', 'five', 'four', 'nine', 'one', 'seven', 'six', 'ten', 'three', 'two', 'zero']\n",
    "print(labels[max_num])"
   ]
  },
  {
   "cell_type": "code",
   "execution_count": null,
   "id": "2d6f4a33",
   "metadata": {},
   "outputs": [],
   "source": []
  },
  {
   "cell_type": "code",
   "execution_count": null,
   "id": "6c0371e2",
   "metadata": {},
   "outputs": [],
   "source": []
  }
 ],
 "metadata": {
  "kernelspec": {
   "display_name": "Python 3 (ipykernel)",
   "language": "python",
   "name": "python3"
  },
  "language_info": {
   "codemirror_mode": {
    "name": "ipython",
    "version": 3
   },
   "file_extension": ".py",
   "mimetype": "text/x-python",
   "name": "python",
   "nbconvert_exporter": "python",
   "pygments_lexer": "ipython3",
   "version": "3.9.0"
  }
 },
 "nbformat": 4,
 "nbformat_minor": 5
}
