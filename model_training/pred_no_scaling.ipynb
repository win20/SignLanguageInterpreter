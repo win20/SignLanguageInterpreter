{
 "cells": [
  {
   "cell_type": "code",
   "execution_count": 1,
   "id": "22068046",
   "metadata": {},
   "outputs": [],
   "source": [
    "import tensorflow as tf\n",
    "from tensorflow.keras import Sequential\n",
    "from tensorflow.keras.layers import Flatten, Dense, Dropout, BatchNormalization\n",
    "from tensorflow.keras.layers import Conv2D, MaxPool2D\n",
    "from tensorflow.keras.optimizers import Adam\n",
    "from keras.wrappers.scikit_learn import KerasClassifier\n",
    "from sklearn.model_selection import cross_val_score\n",
    "from sklearn.model_selection import KFold\n",
    "from keras.utils import np_utils\n",
    "\n",
    "import pandas as pd\n",
    "import numpy as np\n",
    "import matplotlib.pyplot as plt\n",
    "from sklearn.model_selection import train_test_split\n",
    "from sklearn.preprocessing import StandardScaler, LabelEncoder, MinMaxScaler\n",
    "import scipy.stats as stats\n",
    "from sklearn import preprocessing, model_selection"
   ]
  },
  {
   "cell_type": "markdown",
   "id": "213372f3",
   "metadata": {},
   "source": [
    "## Load data & process data"
   ]
  },
  {
   "cell_type": "code",
   "execution_count": 2,
   "id": "0a84c9eb",
   "metadata": {},
   "outputs": [],
   "source": [
    "data = pd.read_csv('data/hand_data.csv')"
   ]
  },
  {
   "cell_type": "code",
   "execution_count": 3,
   "id": "80e10c3a",
   "metadata": {},
   "outputs": [],
   "source": [
    "dataset = data.values\n",
    "X = dataset[:,0:140].astype(float)"
   ]
  },
  {
   "cell_type": "markdown",
   "id": "d352bc6c",
   "metadata": {},
   "source": [
    "## Make prediction"
   ]
  },
  {
   "cell_type": "code",
   "execution_count": 34,
   "id": "7cf579b7",
   "metadata": {},
   "outputs": [
    {
     "name": "stdout",
     "output_type": "stream",
     "text": [
      "two\n"
     ]
    }
   ],
   "source": [
    "# load and process model\n",
    "model = tf.keras.models.load_model('saved_models/no_scaling/')\n",
    "probability_model = tf.keras.Sequential([model, tf.keras.layers.Softmax()])\n",
    "\n",
    "# make predictions on data and find most common prediction\n",
    "predictions = probability_model.predict(X)\n",
    "prediction_indices = []\n",
    "for item in predictions:\n",
    "    prediction_indices.append(np.argmax(item))\n",
    "    \n",
    "counter = 0\n",
    "max_num = prediction_indices[0]\n",
    "for item in prediction_indices:\n",
    "    current_frequency = prediction_indices.count(item)\n",
    "    if current_frequency > counter:\n",
    "        counter = current_frequency\n",
    "        max_num = item\n",
    "        \n",
    "labels = ['eight', 'five', 'four', 'nine', 'one', 'seven', 'six', 'ten', 'three', 'two', 'zero']\n",
    "print(labels[max_num])"
   ]
  },
  {
   "cell_type": "code",
   "execution_count": null,
   "id": "0586251b",
   "metadata": {},
   "outputs": [],
   "source": []
  }
 ],
 "metadata": {
  "kernelspec": {
   "display_name": "Python 3 (ipykernel)",
   "language": "python",
   "name": "python3"
  },
  "language_info": {
   "codemirror_mode": {
    "name": "ipython",
    "version": 3
   },
   "file_extension": ".py",
   "mimetype": "text/x-python",
   "name": "python",
   "nbconvert_exporter": "python",
   "pygments_lexer": "ipython3",
   "version": "3.9.0"
  }
 },
 "nbformat": 4,
 "nbformat_minor": 5
}
